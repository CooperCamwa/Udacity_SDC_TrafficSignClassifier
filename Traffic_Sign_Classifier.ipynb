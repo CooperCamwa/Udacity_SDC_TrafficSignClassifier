{
 "cells": [
  {
   "cell_type": "markdown",
   "metadata": {},
   "source": [
    "# Self-Driving Car Engineer Nanodegree\n",
    "\n",
    "## Deep Learning\n",
    "\n",
    "## Project: Build a Traffic Sign Recognition Classifier\n",
    "\n",
    "In this notebook, a template is provided for you to implement your functionality in stages, which is required to successfully complete this project. If additional code is required that cannot be included in the notebook, be sure that the Python code is successfully imported and included in your submission if necessary. \n",
    "\n",
    "> **Note**: Once you have completed all of the code implementations, you need to finalize your work by exporting the iPython Notebook as an HTML document. Before exporting the notebook to html, all of the code cells need to have been run so that reviewers can see the final implementation and output. You can then export the notebook by using the menu above and navigating to  \\n\",\n",
    "    \"**File -> Download as -> HTML (.html)**. Include the finished document along with this notebook as your submission. \n",
    "\n",
    "In addition to implementing code, there is a writeup to complete. The writeup should be completed in a separate file, which can be either a markdown file or a pdf document. There is a [write up template](https://github.com/udacity/CarND-Traffic-Sign-Classifier-Project/blob/master/writeup_template.md) that can be used to guide the writing process. Completing the code template and writeup template will cover all of the [rubric points](https://review.udacity.com/#!/rubrics/481/view) for this project.\n",
    "\n",
    "The [rubric](https://review.udacity.com/#!/rubrics/481/view) contains \"Stand Out Suggestions\" for enhancing the project beyond the minimum requirements. The stand out suggestions are optional. If you decide to pursue the \"stand out suggestions\", you can include the code in this Ipython notebook and also discuss the results in the writeup file.\n",
    "\n",
    "\n",
    ">**Note:** Code and Markdown cells can be executed using the **Shift + Enter** keyboard shortcut. In addition, Markdown cells can be edited by typically double-clicking the cell to enter edit mode."
   ]
  },
  {
   "cell_type": "markdown",
   "metadata": {},
   "source": [
    "---\n",
    "## Step 0: Load The Data"
   ]
  },
  {
   "cell_type": "code",
   "execution_count": 64,
   "metadata": {},
   "outputs": [],
   "source": [
    "# Limport libs which I need\n",
    "import numpy as np\n",
    "import csv\n",
    "import cv2\n",
    "import pickle\n",
    "import tensorflow as tf\n",
    "from tensorflow.contrib.layers import flatten\n",
    "from sklearn.utils import shuffle\n",
    "import time\n",
    "import matplotlib.pyplot as plt\n",
    "import random\n",
    "from PIL import Image\n",
    "import os\n",
    "\n",
    "import glob\n",
    "import matplotlib.image as mpimg\n",
    "\n",
    "\n",
    "\n",
    "\n",
    "\n"
   ]
  },
  {
   "cell_type": "code",
   "execution_count": 3,
   "metadata": {},
   "outputs": [
    {
     "name": "stdout",
     "output_type": "stream",
     "text": [
      "ok\n",
      "shape X_train:  (34799, 32, 32, 3)\n",
      "shape Y_train:  (34799,)\n",
      "shape X_valid:  (4410, 32, 32, 3)\n",
      "shape Y_valid:  (4410,)\n",
      "shape X_test:  (12630, 32, 32, 3)\n",
      "shape Y_test:  (12630,)\n"
     ]
    }
   ],
   "source": [
    "# TODO: Fill this in based on where you saved the training and testing data\n",
    "\n",
    "#mnist = input_data.read_data_sets(\"MNIST_data/\", reshape=False)\n",
    "#X_train, y_train           = mnist.train.images, mnist.train.labels\n",
    "#X_validation, y_validation = mnist.validation.images, mnist.validation.labels\n",
    "#X_test, y_test             = mnist.test.images, mnist.test.labels\n",
    "\n",
    "training_file = \"./traffic-signs-data/train.p\"\n",
    "validation_file = \"./traffic-signs-data/valid.p\"\n",
    "testing_file = \"./traffic-signs-data/test.p\"\n",
    "\n",
    "\n",
    "with open(training_file, mode='rb') as f:\n",
    "    train = pickle.load(f)\n",
    "with open(validation_file, mode='rb') as f:\n",
    "    valid = pickle.load(f)\n",
    "with open(testing_file, mode='rb') as f:\n",
    "    test = pickle.load(f)\n",
    "    \n",
    "X_train, Y_train = train['features'], train['labels']\n",
    "X_valid, Y_valid = valid['features'], valid['labels']\n",
    "X_test, Y_test = test['features'], test['labels']\n",
    "print('ok')\n",
    "print(\"shape X_train: \", X_train.shape)\n",
    "print(\"shape Y_train: \", Y_train.shape)\n",
    "print(\"shape X_valid: \", X_valid.shape)\n",
    "print(\"shape Y_valid: \", Y_valid.shape)\n",
    "print(\"shape X_test: \", X_test.shape)\n",
    "print(\"shape Y_test: \", Y_test.shape)"
   ]
  },
  {
   "cell_type": "code",
   "execution_count": 65,
   "metadata": {},
   "outputs": [],
   "source": [
    "signname = {}\n",
    "with open('signnames.csv', 'r') as f:\n",
    "    reader = csv.reader(f)\n",
    "    for r in reader:\n",
    "        if r[0].isdigit():\n",
    "            signname[int(r[0])] = r[1]\n",
    "NCLASS = len(signname)"
   ]
  },
  {
   "cell_type": "markdown",
   "metadata": {},
   "source": [
    "---\n",
    "\n",
    "## Step 1: Dataset Summary & Exploration\n",
    "\n",
    "The pickled data is a dictionary with 4 key/value pairs:\n",
    "\n",
    "- `'features'` is a 4D array containing raw pixel data of the traffic sign images, (num examples, width, height, channels).\n",
    "- `'labels'` is a 1D array containing the label/class id of the traffic sign. The file `signnames.csv` contains id -> name mappings for each id.\n",
    "- `'sizes'` is a list containing tuples, (width, height) representing the original width and height the image.\n",
    "- `'coords'` is a list containing tuples, (x1, y1, x2, y2) representing coordinates of a bounding box around the sign in the image. **THESE COORDINATES ASSUME THE ORIGINAL IMAGE. THE PICKLED DATA CONTAINS RESIZED VERSIONS (32 by 32) OF THESE IMAGES**\n",
    "\n",
    "Complete the basic data summary below. Use python, numpy and/or pandas methods to calculate the data summary rather than hard coding the results. For example, the [pandas shape method](http://pandas.pydata.org/pandas-docs/stable/generated/pandas.DataFrame.shape.html) might be useful for calculating some of the summary results. "
   ]
  },
  {
   "cell_type": "markdown",
   "metadata": {},
   "source": [
    "### Provide a Basic Summary of the Data Set Using Python, Numpy and/or Pandas"
   ]
  },
  {
   "cell_type": "code",
   "execution_count": 4,
   "metadata": {},
   "outputs": [
    {
     "name": "stdout",
     "output_type": "stream",
     "text": [
      "len n_tran:  34799\n",
      "len n_validation:  4410\n",
      "len n_test:  12630\n",
      "Number of training examples = 34799\n",
      "Number of testing examples = 12630\n",
      "Image data shape = (34798, 32, 32, 3)\n",
      "Number of classes = 43\n"
     ]
    }
   ],
   "source": [
    "### Replace each question mark with the appropriate value. \n",
    "### Use python, pandas or numpy methods rather than hard coding the results\n",
    "# TODO: Number of training examples\n",
    "n_train = X_train.shape[0]\n",
    "print('len n_tran: ', n_train)\n",
    "\n",
    "# TODO: Number of validation examples\n",
    "n_validation = X_valid.shape[0]\n",
    "print('len n_validation: ', n_validation)\n",
    "\n",
    "# TODO: Number of testing examples.\n",
    "n_test = X_test.shape[0]\n",
    "print('len n_test: ', n_test)\n",
    "\n",
    "# TODO: What's the shape of an traffic sign image?\n",
    "image_shape = X_train[1:].shape\n",
    "\n",
    "# TODO: How many unique classes/labels there are in the dataset.\n",
    "n_classes = len(np.unique(Y_train))\n",
    "\n",
    "print(\"Number of training examples =\", n_train)\n",
    "print(\"Number of testing examples =\", n_test)\n",
    "print(\"Image data shape =\", image_shape)\n",
    "print(\"Number of classes =\", n_classes)"
   ]
  },
  {
   "cell_type": "markdown",
   "metadata": {},
   "source": [
    "### Include an exploratory visualization of the dataset"
   ]
  },
  {
   "cell_type": "markdown",
   "metadata": {},
   "source": [
    "Visualize the German Traffic Signs Dataset using the pickled file(s). This is open ended, suggestions include: plotting traffic sign images, plotting the count of each sign, etc. \n",
    "\n",
    "The [Matplotlib](http://matplotlib.org/) [examples](http://matplotlib.org/examples/index.html) and [gallery](http://matplotlib.org/gallery.html) pages are a great resource for doing visualizations in Python.\n",
    "\n",
    "**NOTE:** It's recommended you start with something simple first. If you wish to do more, come back to it after you've completed the rest of the sections. It can be interesting to look at the distribution of classes in the training, validation and test set. Is the distribution the same? Are there more examples of some classes than others?"
   ]
  },
  {
   "cell_type": "code",
   "execution_count": 5,
   "metadata": {},
   "outputs": [
    {
     "data": {
      "image/png": "[encoded data removed]",
      "text/plain": [
       "<matplotlib.figure.Figure at 0x12741d2b0>"
      ]
     },
     "metadata": {
      "needs_background": "light"
     },
     "output_type": "display_data"
    }
   ],
   "source": [
    "### Data exploration visualization code goes here.\n",
    "### Feel free to use as many code cells as needed.\n",
    "\n",
    "# Visualizations will be shown in the notebook.\n",
    "%matplotlib inline\n",
    "\n",
    "# show image of 10 random data points\n",
    "fig, axs = plt.subplots(2,5, figsize=(15, 6))\n",
    "fig.subplots_adjust(hspace = .2, wspace=.001)\n",
    "axs = axs.ravel()\n",
    "for i in range(10):\n",
    "    index = random.randint(0, len(X_train))\n",
    "    image = X_train[index]\n",
    "    axs[i].axis('off')\n",
    "    axs[i].imshow(image)\n",
    "    axs[i].set_title(Y_train[index])"
   ]
  },
  {
   "cell_type": "markdown",
   "metadata": {},
   "source": [
    "----\n",
    "\n",
    "## Step 2: Design and Test a Model Architecture\n",
    "\n",
    "Design and implement a deep learning model that learns to recognize traffic signs. Train and test your model on the [German Traffic Sign Dataset](http://benchmark.ini.rub.de/?section=gtsrb&subsection=dataset).\n",
    "\n",
    "The LeNet-5 implementation shown in the [classroom](https://classroom.udacity.com/nanodegrees/nd013/parts/fbf77062-5703-404e-b60c-95b78b2f3f9e/modules/6df7ae49-c61c-4bb2-a23e-6527e69209ec/lessons/601ae704-1035-4287-8b11-e2c2716217ad/concepts/d4aca031-508f-4e0b-b493-e7b706120f81) at the end of the CNN lesson is a solid starting point. You'll have to change the number of classes and possibly the preprocessing, but aside from that it's plug and play! \n",
    "\n",
    "With the LeNet-5 solution from the lecture, you should expect a validation set accuracy of about 0.89. To meet specifications, the validation set accuracy will need to be at least 0.93. It is possible to get an even higher accuracy, but 0.93 is the minimum for a successful project submission. \n",
    "\n",
    "There are various aspects to consider when thinking about this problem:\n",
    "\n",
    "- Neural network architecture (is the network over or underfitting?)\n",
    "- Play around preprocessing techniques (normalization, rgb to grayscale, etc)\n",
    "- Number of examples per label (some have more than others).\n",
    "- Generate fake data.\n",
    "\n",
    "Here is an example of a [published baseline model on this problem](http://yann.lecun.com/exdb/publis/pdf/sermanet-ijcnn-11.pdf). It's not required to be familiar with the approach used in the paper but, it's good practice to try to read papers like these."
   ]
  },
  {
   "cell_type": "markdown",
   "metadata": {},
   "source": [
    "### Pre-process the Data Set (normalization, grayscale, etc.)"
   ]
  },
  {
   "cell_type": "markdown",
   "metadata": {},
   "source": [
    "Minimally, the image data should be normalized so that the data has mean zero and equal variance. For image data, `(pixel - 128)/ 128` is a quick way to approximately normalize the data and can be used in this project. \n",
    "\n",
    "Other pre-processing steps are optional. You can try different techniques to see if it improves performance. \n",
    "\n",
    "Use the code cell (or multiple code cells, if necessary) to implement the first step of your project."
   ]
  },
  {
   "cell_type": "code",
   "execution_count": 6,
   "metadata": {},
   "outputs": [
    {
     "name": "stdout",
     "output_type": "stream",
     "text": [
      "len of feature train:  34799\n",
      "len of feature valid:  4410\n",
      "len of feature test:  12630\n",
      "images are converted to grayscale\n",
      "w (32, 32, 1)\n",
      "769\n",
      "268\n",
      "2890\n",
      "2275\n",
      "4045\n",
      "1040\n",
      "2149\n",
      "629\n",
      "3839\n",
      "154\n"
     ]
    },
    {
     "data": {
      "image/png": "[encoded data removed]",
      "text/plain": [
       "<matplotlib.figure.Figure at 0x13a5d2b00>"
      ]
     },
     "metadata": {
      "needs_background": "light"
     },
     "output_type": "display_data"
    }
   ],
   "source": [
    "### Preprocess the data here. It is required to normalize the data. Other preprocessing steps could include \n",
    "### converting to grayscale, etc.\n",
    "### Feel free to use as many code cells as needed.\n",
    "\n",
    "# transfering the sign images to grayscale images\n",
    "\n",
    "def img_preprocess(images):\n",
    "    def grayscale_trans(img):\n",
    "        if img.dtype == np.uint8:\n",
    "            img = np.array(img/255.0, dtype=np.float32)\n",
    "        #print(img)\n",
    "        img_gs = cv2.cvtColor(img, cv2.COLOR_RGB2GRAY)\n",
    "        #img_gs = (cv2.cvtColor(img, cv2.COLOR_RGB2GRAY), y.astype('uint8'))\n",
    "        #cv2.imshow(\"\", y.astype('float32')) or cv2.imshow(\"\", y.astype('uint8') * 255)\n",
    "        img_gs = img_gs.reshape(32,32,1)\n",
    "        return img_gs\n",
    "    norms = [grayscale_trans(img) for img in images]\n",
    "    return np.array(norms)\n",
    "\n",
    "\n",
    "feature_train = img_preprocess(X_train)\n",
    "label_train   = Y_train\n",
    "print('len of feature train: ', len(feature_train))\n",
    "\n",
    "feature_valid = img_preprocess(X_valid)\n",
    "label_valid   = Y_valid\n",
    "print('len of feature valid: ', len(feature_valid))\n",
    "\n",
    "feature_test = img_preprocess(X_test)\n",
    "label_test   = Y_test\n",
    "print('len of feature test: ', len(feature_test))\n",
    "\n",
    "print('images are converted to grayscale')\n",
    "\n",
    "fig, axs = plt.subplots(2,5, figsize=(15, 6))\n",
    "fig.subplots_adjust(hspace = .2, wspace=.001)\n",
    "axs = axs.ravel()\n",
    "print('w', feature_valid[10].shape)\n",
    "#plt.imshow(feature_valid[10].squeeze())\n",
    "for i in range(10):\n",
    "    index = random.randint(0, len(feature_valid))\n",
    "    print(index)\n",
    "    image = feature_valid[index]\n",
    "    #print(image)\n",
    "    #print(i)YQSA\n",
    "    axs[i].axis('off')\n",
    "    axs[i].imshow(image.squeeze(), cmap='gray')\n",
    "    axs[i].set_title(label_valid[index])"
   ]
  },
  {
   "cell_type": "code",
   "execution_count": 7,
   "metadata": {},
   "outputs": [
    {
     "name": "stdout",
     "output_type": "stream",
     "text": [
      "architecture is done!\n"
     ]
    }
   ],
   "source": [
    "### Define your architecture here.\n",
    "### Feel free to use as many code cells as needed.\n",
    "\n",
    "\n",
    "# Convolutional + activation + max_pool\n",
    "def Conv_n(img_in, dim_in, dim_out, dep_in, dep_out, mu, sigma):\n",
    "    dim_fil  = dim_in - dim_out\n",
    "    dim_fil  += 1 \n",
    "    conv_n_W = tf.Variable(tf.truncated_normal(shape=(dim_fil, dim_fil, dep_in, dep_out), mean = mu, stddev = sigma))\n",
    "    conv_n_b = tf.Variable(tf.zeros(dep_out))\n",
    "    conv_n   = tf.nn.bias_add(tf.nn.conv2d(img_in, conv_n_W, strides=[1, 1, 1, 1], padding='VALID'), conv_n_b)\n",
    "    conv_n   = tf.nn.relu(conv_n)\n",
    "    conv_n   = tf.nn.max_pool(conv_n, ksize=[1, 2, 2, 1], strides=[1, 2, 2, 1], padding='VALID')\n",
    "    \n",
    "    return conv_n\n",
    "\n",
    "def full_connect(img_in, dim_in, dim_out, mu, sigma):\n",
    "    fc_n_W   = tf.Variable(tf.truncated_normal(shape=(dim_in, dim_out), mean = mu, stddev = sigma))\n",
    "    fc_n_b   = tf.Variable(tf.zeros(dim_out))\n",
    "    fc_n     = tf.add(tf.matmul(img_in, fc_n_W), fc_n_b)\n",
    "    \n",
    "    return fc_n\n",
    "\n",
    "def LeNet(x, keep_prob):\n",
    "    mu = 0\n",
    "    sigma = 0.1\n",
    "    print(x)\n",
    "    conv1 = Conv_n(x, 32, 28, 1, 12, mu, sigma)\n",
    "    print('convolution 1: ', conv1)\n",
    "    conv2 = Conv_n(conv1, 14, 10, 12, 25, mu, sigma)\n",
    "    print('convolution 2: ', conv1)\n",
    "    \n",
    "    fc0         = flatten(conv2)\n",
    "    \n",
    "    full_con1   = full_connect(fc0, 625, 300, mu, sigma)\n",
    "    full_con1   = tf.nn.relu(full_con1)\n",
    "    full_con1   = tf.nn.dropout(full_con1, keep_prob)\n",
    "    full_con2   = full_connect(full_con1, 300, 100, mu, sigma)\n",
    "    full_con2   = tf.nn.relu(full_con2)\n",
    "    full_con2   = tf.nn.dropout(full_con2, keep_prob)\n",
    "    \n",
    "    full_con    = full_connect(full_con2, 100, n_classes, mu, sigma)\n",
    "    \n",
    "    return full_con\n",
    "print('architecture is done!')"
   ]
  },
  {
   "cell_type": "markdown",
   "metadata": {},
   "source": [
    "### Train, Validate and Test the Model"
   ]
  },
  {
   "cell_type": "markdown",
   "metadata": {},
   "source": [
    "A validation set can be used to assess how well the model is performing. A low accuracy on the training and validation\n",
    "sets imply underfitting. A high accuracy on the training set but low accuracy on the validation set implies overfitting."
   ]
  },
  {
   "cell_type": "code",
   "execution_count": 199,
   "metadata": {},
   "outputs": [],
   "source": [
    "### Train your model here.\n",
    "### Calculate and report the accuracy on the training and validation set.\n",
    "### Once a final model architecture is selected, \n",
    "### the accuracy on the test set should be calculated and reported as well.\n",
    "### Feel free to use as many code cells as needed."
   ]
  },
  {
   "cell_type": "code",
   "execution_count": 8,
   "metadata": {},
   "outputs": [
    {
     "name": "stdout",
     "output_type": "stream",
     "text": [
      "(32, 32, 1)\n",
      "x:  Tensor(\"Placeholder:0\", shape=(?, 32, 32, 1), dtype=float32)\n",
      "y:  Tensor(\"Placeholder_1:0\", dtype=int32)\n",
      "one_hot_y:  Tensor(\"one_hot:0\", dtype=float32)\n",
      "keep_prob:  Tensor(\"Placeholder_2:0\", dtype=float32)\n"
     ]
    }
   ],
   "source": [
    "tf.reset_default_graph() \n",
    "\n",
    "feature_shape = feature_train.shape[1:]\n",
    "print(feature_shape)\n",
    "#x = tf.placeholder(tf.float32, shape=(None,)+feature_shape)\n",
    "x = tf.placeholder(tf.float32, (None, 32, 32, 1))\n",
    "print('x: ', x)\n",
    "y = tf.placeholder(tf.int32, (None))\n",
    "print('y: ', y)\n",
    "one_hot_y = tf.one_hot(y, n_classes)\n",
    "print('one_hot_y: ', one_hot_y)\n",
    "keep_prob = tf.placeholder(tf.float32)\n",
    "print('keep_prob: ', keep_prob)\n",
    "\n"
   ]
  },
  {
   "cell_type": "code",
   "execution_count": 9,
   "metadata": {},
   "outputs": [
    {
     "name": "stdout",
     "output_type": "stream",
     "text": [
      "Tensor(\"Placeholder:0\", shape=(?, 32, 32, 1), dtype=float32)\n",
      "convolution 1:  Tensor(\"MaxPool:0\", shape=(?, 14, 14, 12), dtype=float32)\n",
      "convolution 2:  Tensor(\"MaxPool:0\", shape=(?, 14, 14, 12), dtype=float32)\n"
     ]
    }
   ],
   "source": [
    "rate = 0.001\n",
    "EPOCHS = 10\n",
    "BATCH_SIZE = 64\n",
    "X_train, Y_train = shuffle(X_train, Y_train)\n",
    "\n",
    "logits = LeNet(x, keep_prob)\n",
    "cross_entropy = tf.nn.softmax_cross_entropy_with_logits(labels=one_hot_y, logits=logits)\n",
    "loss_operation = tf.reduce_mean(cross_entropy)\n",
    "optimizer = tf.train.AdamOptimizer(learning_rate = rate)\n",
    "training_operation = optimizer.minimize(loss_operation)"
   ]
  },
  {
   "cell_type": "code",
   "execution_count": 10,
   "metadata": {},
   "outputs": [],
   "source": [
    "correct_prediction = tf.equal(tf.argmax(logits, 1), tf.argmax(one_hot_y, 1))\n",
    "accuracy_operation = tf.reduce_mean(tf.cast(correct_prediction, tf.float32))\n",
    "saver = tf.train.Saver()\n",
    "model_file = './model'\n",
    "\n",
    "def evaluate(X_dta, Y_dta):\n",
    "    len_X_dta = len(X_dta)\n",
    "    total_accuracy = 0\n",
    "    sess = tf.get_default_session()\n",
    "    for offset in range(0, len_X_dta, BATCH_SIZE):\n",
    "        batch_x, batch_y = X_dta[offset:offset+BATCH_SIZE], Y_dta[offset:offset+BATCH_SIZE]\n",
    "        accuracy = sess.run(accuracy_operation, feed_dict={x: batch_x, y: batch_y, keep_prob: 1.0})\n",
    "        total_accuracy += (accuracy * len(batch_x))\n",
    "    return total_accuracy / len_X_dta"
   ]
  },
  {
   "cell_type": "code",
   "execution_count": 61,
   "metadata": {},
   "outputs": [
    {
     "name": "stdout",
     "output_type": "stream",
     "text": [
      "Training, please wait ...\n",
      "...\n",
      "[25.5s] epoch 1/10: validation = 0.896\n",
      "[25.4s] epoch 2/10: validation = 0.964\n",
      "[25.3s] epoch 3/10: validation = 0.976\n",
      "[25.9s] epoch 4/10: validation = 0.985\n",
      "[27.9s] epoch 5/10: validation = 0.987\n",
      "[25.1s] epoch 6/10: validation = 0.992\n",
      "[25.8s] epoch 7/10: validation = 0.992\n",
      "[24.9s] epoch 8/10: validation = 0.995\n",
      "[27.2s] epoch 9/10: validation = 0.997\n",
      "[26.1s] epoch 10/10: validation = 0.994\n",
      "model saved into ./model\n"
     ]
    }
   ],
   "source": [
    "from sklearn.model_selection import train_test_split\n",
    "def train(X_dta, Y_dta):\n",
    "    with tf.Session() as sess:\n",
    "        sess.run(tf.global_variables_initializer())\n",
    "        print(\"Training, please wait ...\")\n",
    "        print('...')\n",
    "        for i in range(EPOCHS):\n",
    "            X_train, X_tst, Y_train, Y_tst = train_test_split(X_dta, Y_dta, test_size=0.1, random_state=int(time.time()))\n",
    "            begin_time = time.time()\n",
    "            for offset in range(0, len(X_train), BATCH_SIZE):\n",
    "                end = offset + BATCH_SIZE\n",
    "                features, labels = X_train[offset:end], Y_train[offset:end]\n",
    "                sess.run(training_operation, feed_dict={x : features, y : labels, keep_prob: 0.8})\n",
    "            validation_accuracy = evaluate(X_tst, Y_tst)\n",
    "            print(\"[{3:.1f}s] epoch {0}/{1}: validation = {2:.3f}\".format(i+1, EPOCHS, validation_accuracy, time.time()-begin_time))\n",
    "\n",
    "        saver.save(sess, model_file);\n",
    "        print(\"model saved into {}\".format(model_file))\n",
    "\n",
    "train(feature_train, label_train)\n",
    "\n",
    "\n"
   ]
  },
  {
   "cell_type": "code",
   "execution_count": 12,
   "metadata": {},
   "outputs": [
    {
     "name": "stdout",
     "output_type": "stream",
     "text": [
      "INFO:tensorflow:Restoring parameters from ./model\n",
      "accuracy in validation set: 0.941\n"
     ]
    }
   ],
   "source": [
    "\n",
    "# evaluate the validate set\n",
    "with tf.Session() as sess:\n",
    "    saver.restore(sess, model_file)\n",
    "    acc = evaluate(feature_valid, label_valid)\n",
    "    print(\"accuracy in validation set: {:.3f}\".format(acc))"
   ]
  },
  {
   "cell_type": "code",
   "execution_count": 13,
   "metadata": {},
   "outputs": [
    {
     "name": "stdout",
     "output_type": "stream",
     "text": [
      "INFO:tensorflow:Restoring parameters from ./model\n",
      "accuracy in test set:  0.936342042746\n"
     ]
    }
   ],
   "source": [
    "# test\n",
    "with tf.Session() as sess:\n",
    "    saver.restore(sess, model_file)\n",
    "    acc = evaluate(feature_test, label_test)\n",
    "    print(\"accuracy in test set: \", acc)"
   ]
  },
  {
   "cell_type": "markdown",
   "metadata": {},
   "source": [
    "---\n",
    "\n",
    "## Step 3: Test a Model on New Images\n",
    "\n",
    "To give yourself more insight into how your model is working, download at least five pictures of German traffic signs from the web and use your model to predict the traffic sign type.\n",
    "\n",
    "You may find `signnames.csv` useful as it contains mappings from the class id (integer) to the actual sign name."
   ]
  },
  {
   "cell_type": "markdown",
   "metadata": {},
   "source": [
    "### Load and Output the Images"
   ]
  },
  {
   "cell_type": "code",
   "execution_count": 92,
   "metadata": {},
   "outputs": [
    {
     "name": "stdout",
     "output_type": "stream",
     "text": [
      "9\n"
     ]
    },
    {
     "data": {
      "text/plain": [
       "<matplotlib.image.AxesImage at 0x13078c240>"
      ]
     },
     "execution_count": 92,
     "metadata": {},
     "output_type": "execute_result"
    },
    {
     "data": {
      "image/png": "[encoded data removed]",
      "text/plain": [
       "<matplotlib.figure.Figure at 0x13078c710>"
      ]
     },
     "metadata": {
      "needs_background": "light"
     },
     "output_type": "display_data"
    }
   ],
   "source": [
    "fig, axs = plt.subplots(2,5, figsize=(5, 2))\n",
    "fig.subplots_adjust(hspace = .2, wspace=.001)\n",
    "axs = axs.ravel()\n",
    "\n",
    "my_images = []\n",
    "my_images_rgb = []\n",
    "my_images_gry = []\n",
    "folder = './new_GTS/'\n",
    "\n",
    "images_jpg = glob.glob('./new_GTS/*.jpg')\n",
    "#print('images_jpg: ', images_jpg)\n",
    "images_png = glob.glob('./new_GTS/*.png')\n",
    "#print('images_png: ', images_png)\n",
    "images = list(set(images_jpg + images_png))\n",
    "print(len(images))\n",
    "\n",
    "\n",
    "for i in range(len(images)):\n",
    "    #print(i)\n",
    "    #print(images[i])\n",
    "    image = cv2.imread(images[i])\n",
    "    #print(image.shape)\n",
    "\n",
    "    image_rgb = cv2.cvtColor(image, cv2.COLOR_BGR2RGB)\n",
    "    my_images_rgb.append(image_rgb)\n",
    "    #print(image_rgb.shape)\n",
    "    \n",
    "    images_gry = cv2.cvtColor(image, cv2.COLOR_BGR2GRAY)\n",
    "    my_images_gry.append(images_gry)\n",
    "    #print(my_images_gry)\n",
    "    \n",
    "    \n",
    "    axs[i].axis('off')\n",
    "    #axs[i].imshow(image_rgb)\n",
    "    #axs[i].imshow(images_gry, cmap='gray')\n",
    "\n",
    "my_images_rgb = np.asarray(my_images_rgb)\n",
    "my_images_gry = np.asarray(my_images_gry)\n",
    "\n",
    "plt.imshow(my_images_rgb[0])\n"
   ]
  },
  {
   "cell_type": "markdown",
   "metadata": {},
   "source": [
    "### Predict the Sign Type for Each Image"
   ]
  },
  {
   "cell_type": "code",
   "execution_count": 89,
   "metadata": {},
   "outputs": [
    {
     "name": "stdout",
     "output_type": "stream",
     "text": [
      "(32, 32, 3)\n",
      "(32, 32, 3)\n",
      "(32, 32, 3)\n",
      "(32, 32, 3)\n",
      "(32, 32, 3)\n",
      "(32, 32, 3)\n",
      "(32, 32, 3)\n",
      "(32, 32, 3)\n",
      "(32, 32, 3)\n",
      "OK\n",
      "INFO:tensorflow:Restoring parameters from ./model\n",
      "['Speed limit (20km/h)', 'Bicycles crossing', 'Yield', 'Dangerous curve to the left', 'Children crossing', 'Right-of-way at the next intersection', 'Right-of-way at the next intersection', 'Go straight or left', 'Right-of-way at the next intersection']\n",
      "new image accuracy result:  0.333333343267\n"
     ]
    },
    {
     "data": {
      "image/png": "[encoded data removed]",
      "text/plain": [
       "<matplotlib.figure.Figure at 0x13006b5c0>"
      ]
     },
     "metadata": {
      "needs_background": "light"
     },
     "output_type": "display_data"
    }
   ],
   "source": [
    "### Run the predictions here and use the model to output the prediction for each image.\n",
    "### Make sure to pre-process the images with the same pre-processing pipeline used earlier.\n",
    "### Feel free to use as many code cells as needed.\n",
    "\n",
    "\n",
    "fig, axs = plt.subplots(2,5, figsize=(5, 2))\n",
    "fig.subplots_adjust(hspace = .2, wspace=.001)\n",
    "axs = axs.ravel()\n",
    "\n",
    "valid_img = []\n",
    "for i in range(len(my_images_rgb)):\n",
    "    my_images_rgb_rs=cv2.resize(my_images_rgb[i], (32,32), interpolation=cv2.INTER_CUBIC)\n",
    "    valid_img.append(my_images_rgb_rs)\n",
    "    print(valid_img[i].shape)\n",
    "    \n",
    "    axs[i].axis('off')\n",
    "    axs[i].imshow(valid_img[i])\n",
    "    \n",
    "predict_feature = img_preprocess(valid_img)\n",
    "print('OK')\n",
    "new_img_lables = [16, 1, 13, 19, 21, 11, 27, 25,14]\n",
    "\n",
    "def predict(predict_feature):\n",
    "    with tf.Session() as sess:\n",
    "        saver.restore(sess, model_file)\n",
    "        results = sess.run(tf.argmax(logits, 1), {x : predict_feature, keep_prob:1.0})\n",
    "        results = [signname[n] for n in results]\n",
    "        print(results)\n",
    "        new_img_acc = evaluate(predict_feature, new_img_lables)\n",
    "        return new_img_acc\n",
    "    \n",
    "new_img_acc = predict(predict_feature)\n",
    "print('new image accuracy result: ', new_img_acc)\n"
   ]
  },
  {
   "cell_type": "markdown",
   "metadata": {},
   "source": [
    "### Analyze Performance"
   ]
  },
  {
   "cell_type": "markdown",
   "metadata": {},
   "source": [
    "### Output Top 5 Softmax Probabilities For Each Image Found on the Web"
   ]
  },
  {
   "cell_type": "markdown",
   "metadata": {},
   "source": [
    "For each of the new images, print out the model's softmax probabilities to show the **certainty** of the model's predictions (limit the output to the top 5 probabilities for each image). [`tf.nn.top_k`](https://www.tensorflow.org/versions/r0.12/api_docs/python/nn.html#top_k) could prove helpful here. \n",
    "\n",
    "The example below demonstrates how tf.nn.top_k can be used to find the top k predictions for each image.\n",
    "\n",
    "`tf.nn.top_k` will return the values and indices (class ids) of the top k predictions. So if k=3, for each sign, it'll return the 3 largest probabilities (out of a possible 43) and the correspoding class ids.\n",
    "\n",
    "Take this numpy array as an example. The values in the array represent predictions. The array contains softmax probabilities for five candidate images with six possible classes. `tf.nn.top_k` is used to choose the three classes with the highest probability:\n",
    "\n",
    "```\n",
    "# (5, 6) array\n",
    "a = np.array([[ 0.24879643,  0.07032244,  0.12641572,  0.34763842,  0.07893497,\n",
    "         0.12789202],\n",
    "       [ 0.28086119,  0.27569815,  0.08594638,  0.0178669 ,  0.18063401,\n",
    "         0.15899337],\n",
    "       [ 0.26076848,  0.23664738,  0.08020603,  0.07001922,  0.1134371 ,\n",
    "         0.23892179],\n",
    "       [ 0.11943333,  0.29198961,  0.02605103,  0.26234032,  0.1351348 ,\n",
    "         0.16505091],\n",
    "       [ 0.09561176,  0.34396535,  0.0643941 ,  0.16240774,  0.24206137,\n",
    "         0.09155967]])\n",
    "```\n",
    "\n",
    "Running it through `sess.run(tf.nn.top_k(tf.constant(a), k=3))` produces:\n",
    "\n",
    "```\n",
    "TopKV2(values=array([[ 0.34763842,  0.24879643,  0.12789202],\n",
    "       [ 0.28086119,  0.27569815,  0.18063401],\n",
    "       [ 0.26076848,  0.23892179,  0.23664738],\n",
    "       [ 0.29198961,  0.26234032,  0.16505091],\n",
    "       [ 0.34396535,  0.24206137,  0.16240774]]), indices=array([[3, 0, 5],\n",
    "       [0, 1, 4],\n",
    "       [0, 5, 1],\n",
    "       [1, 3, 5],\n",
    "       [1, 4, 3]], dtype=int32))\n",
    "```\n",
    "\n",
    "Looking just at the first row we get `[ 0.34763842,  0.24879643,  0.12789202]`, you can confirm these are the 3 largest probabilities in `a`. You'll also notice `[3, 0, 5]` are the corresponding indices."
   ]
  },
  {
   "cell_type": "code",
   "execution_count": 90,
   "metadata": {},
   "outputs": [
    {
     "name": "stdout",
     "output_type": "stream",
     "text": [
      "INFO:tensorflow:Restoring parameters from ./model\n",
      "TopKV2(values=array([[  9.37336087e-01,   3.89467031e-02,   6.19173888e-03,\n",
      "          5.79671189e-03,   4.87415958e-03],\n",
      "       [  6.78498924e-01,   3.02198082e-01,   8.72930139e-03,\n",
      "          5.25789196e-03,   1.67541765e-03],\n",
      "       [  9.99819696e-01,   1.79526629e-04,   5.33718833e-07,\n",
      "          1.88099492e-07,   1.26604958e-08],\n",
      "       [  9.99993801e-01,   6.25192797e-06,   1.33244240e-11,\n",
      "          1.98065932e-14,   1.86148950e-16],\n",
      "       [  7.61180520e-01,   2.38819510e-01,   4.75663987e-11,\n",
      "          1.69812883e-12,   1.56489080e-12],\n",
      "       [  1.00000000e+00,   2.78936526e-15,   1.37700055e-16,\n",
      "          5.54559584e-17,   1.12640261e-17],\n",
      "       [  9.99999046e-01,   9.60911166e-07,   5.48129719e-09,\n",
      "          3.75656673e-13,   2.33275449e-13],\n",
      "       [  3.66339326e-01,   1.82877645e-01,   1.11811146e-01,\n",
      "          7.31651932e-02,   6.95329607e-02],\n",
      "       [  7.29531825e-01,   1.62437826e-01,   7.84723833e-02,\n",
      "          1.48305697e-02,   5.70491375e-03]], dtype=float32), indices=array([[ 0, 40, 17, 33, 32],\n",
      "       [29,  1, 35, 37,  0],\n",
      "       [13, 12, 14, 35, 17],\n",
      "       [19, 23,  3, 25, 16],\n",
      "       [28, 11,  6, 30, 20],\n",
      "       [11, 40, 30,  6, 42],\n",
      "       [11, 27, 18, 30, 24],\n",
      "       [37, 30, 11, 28, 24],\n",
      "       [11, 10, 42, 13, 12]], dtype=int32))\n"
     ]
    }
   ],
   "source": [
    "### Print out the top five softmax probabilities for the predictions on the German traffic sign images found on the web. \n",
    "### Feel free to use as many code cells as needed.\n",
    "with tf.Session() as sess:\n",
    "    saver.restore(sess, model_file)\n",
    "    sm_pred = tf.nn.softmax(logits)\n",
    "    results_sm_pred = sess.run(tf.nn.top_k(sm_pred, k=5), {x : predict_feature, keep_prob:1.0})\n",
    "    #return results_sm_pred\n",
    "    print(results_sm_pred)\n"
   ]
  },
  {
   "cell_type": "markdown",
   "metadata": {},
   "source": [
    "### Project Writeup\n",
    "\n",
    "Once you have completed the code implementation, document your results in a project writeup using this [template](https://github.com/udacity/CarND-Traffic-Sign-Classifier-Project/blob/master/writeup_template.md) as a guide. The writeup can be in a markdown or pdf file. "
   ]
  },
  {
   "cell_type": "markdown",
   "metadata": {},
   "source": [
    "> **Note**: Once you have completed all of the code implementations and successfully answered each question above, you may finalize your work by exporting the iPython Notebook as an HTML document. You can do this by using the menu above and navigating to  \\n\",\n",
    "    \"**File -> Download as -> HTML (.html)**. Include the finished document along with this notebook as your submission."
   ]
  },
  {
   "cell_type": "markdown",
   "metadata": {},
   "source": [
    "---\n",
    "\n",
    "## Step 4 (Optional): Visualize the Neural Network's State with Test Images\n",
    "\n",
    " This Section is not required to complete but acts as an additional excersise for understaning the output of a neural network's weights. While neural networks can be a great learning device they are often referred to as a black box. We can understand what the weights of a neural network look like better by plotting their feature maps. After successfully training your neural network you can see what it's feature maps look like by plotting the output of the network's weight layers in response to a test stimuli image. From these plotted feature maps, it's possible to see what characteristics of an image the network finds interesting. For a sign, maybe the inner network feature maps react with high activation to the sign's boundary outline or to the contrast in the sign's painted symbol.\n",
    "\n",
    " Provided for you below is the function code that allows you to get the visualization output of any tensorflow weight layer you want. The inputs to the function should be a stimuli image, one used during training or a new one you provided, and then the tensorflow variable name that represents the layer's state during the training process, for instance if you wanted to see what the [LeNet lab's](https://classroom.udacity.com/nanodegrees/nd013/parts/fbf77062-5703-404e-b60c-95b78b2f3f9e/modules/6df7ae49-c61c-4bb2-a23e-6527e69209ec/lessons/601ae704-1035-4287-8b11-e2c2716217ad/concepts/d4aca031-508f-4e0b-b493-e7b706120f81) feature maps looked like for it's second convolutional layer you could enter conv2 as the tf_activation variable.\n",
    "\n",
    "For an example of what feature map outputs look like, check out NVIDIA's results in their paper [End-to-End Deep Learning for Self-Driving Cars](https://devblogs.nvidia.com/parallelforall/deep-learning-self-driving-cars/) in the section Visualization of internal CNN State. NVIDIA was able to show that their network's inner weights had high activations to road boundary lines by comparing feature maps from an image with a clear path to one without. Try experimenting with a similar test to show that your trained network's weights are looking for interesting features, whether it's looking at differences in feature maps from images with or without a sign, or even what feature maps look like in a trained network vs a completely untrained one on the same sign image.\n",
    "\n",
    "<figure>\n",
    " <img src=\"visualize_cnn.png\" width=\"380\" alt=\"Combined Image\" />\n",
    " <figcaption>\n",
    " <p></p> \n",
    " <p style=\"text-align: center;\"> Your output should look something like this (above)</p> \n",
    " </figcaption>\n",
    "</figure>\n",
    " <p></p> \n"
   ]
  },
  {
   "cell_type": "code",
   "execution_count": null,
   "metadata": {
    "collapsed": true
   },
   "outputs": [],
   "source": [
    "### Visualize your network's feature maps here.\n",
    "### Feel free to use as many code cells as needed.\n",
    "\n",
    "# image_input: the test image being fed into the network to produce the feature maps\n",
    "# tf_activation: should be a tf variable name used during your training procedure that represents the calculated state of a specific weight layer\n",
    "# activation_min/max: can be used to view the activation contrast in more detail, by default matplot sets min and max to the actual min and max values of the output\n",
    "# plt_num: used to plot out multiple different weight feature map sets on the same block, just extend the plt number for each new feature map entry\n",
    "\n",
    "def outputFeatureMap(image_input, tf_activation, activation_min=-1, activation_max=-1 ,plt_num=1):\n",
    "    # Here make sure to preprocess your image_input in a way your network expects\n",
    "    # with size, normalization, ect if needed\n",
    "    # image_input =\n",
    "    # Note: x should be the same name as your network's tensorflow data placeholder variable\n",
    "    # If you get an error tf_activation is not defined it may be having trouble accessing the variable from inside a function\n",
    "    activation = tf_activation.eval(session=sess,feed_dict={x : image_input})\n",
    "    featuremaps = activation.shape[3]\n",
    "    plt.figure(plt_num, figsize=(15,15))\n",
    "    for featuremap in range(featuremaps):\n",
    "        plt.subplot(6,8, featuremap+1) # sets the number of feature maps to show on each row and column\n",
    "        plt.title('FeatureMap ' + str(featuremap)) # displays the feature map number\n",
    "        if activation_min != -1 & activation_max != -1:\n",
    "            plt.imshow(activation[0,:,:, featuremap], interpolation=\"nearest\", vmin =activation_min, vmax=activation_max, cmap=\"gray\")\n",
    "        elif activation_max != -1:\n",
    "            plt.imshow(activation[0,:,:, featuremap], interpolation=\"nearest\", vmax=activation_max, cmap=\"gray\")\n",
    "        elif activation_min !=-1:\n",
    "            plt.imshow(activation[0,:,:, featuremap], interpolation=\"nearest\", vmin=activation_min, cmap=\"gray\")\n",
    "        else:\n",
    "            plt.imshow(activation[0,:,:, featuremap], interpolation=\"nearest\", cmap=\"gray\")"
   ]
  }
 ],
 "metadata": {
  "anaconda-cloud": {},
  "kernelspec": {
   "display_name": "Python 3",
   "language": "python",
   "name": "python3"
  },
  "language_info": {
   "codemirror_mode": {
    "name": "ipython",
    "version": 3
   },
   "file_extension": ".py",
   "mimetype": "text/x-python",
   "name": "python",
   "nbconvert_exporter": "python",
   "pygments_lexer": "ipython3",
   "version": "3.5.2"
  },
  "widgets": {
   "state": {},
   "version": "1.1.2"
  }
 },
 "nbformat": 4,
 "nbformat_minor": 1
}
